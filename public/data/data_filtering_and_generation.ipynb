{
 "cells": [
  {
   "cell_type": "markdown",
   "id": "77440274-d2d5-4550-9edf-05f0c982c6ff",
   "metadata": {},
   "source": [
    "# Data Filtering and generation"
   ]
  },
  {
   "cell_type": "markdown",
   "id": "cca1c503-6620-446d-91fd-c2305965548e",
   "metadata": {},
   "source": [
    "This notebook filters the original data on the forked repo to get only Near Earth OBjects (NEO).\n",
    "Additionally, it generate new from downloaded dataset from [JPL SBDB](https://ssd.jpl.nasa.gov/tools/sbdb_query.html) potentially hazardous asteroids (PHA), Apollo Orbit Class, ordered by Earth Orbit Minimum Intersection Distance (EARTH MOID)"
   ]
  },
  {
   "cell_type": "markdown",
   "id": "54ffa07b-3028-46d7-905b-f4f106341d50",
   "metadata": {},
   "source": [
    "## Library loading"
   ]
  },
  {
   "cell_type": "code",
   "execution_count": 81,
   "id": "db5a5fd6-634f-424b-9dc5-45c7a0195ad9",
   "metadata": {},
   "outputs": [],
   "source": [
    "import numpy as np\n",
    "import pandas as pd\n",
    "import re"
   ]
  },
  {
   "cell_type": "markdown",
   "id": "abb10153-dc87-4a52-8f8d-07655df97336",
   "metadata": {},
   "source": [
    "## Data filtering"
   ]
  },
  {
   "cell_type": "code",
   "execution_count": 82,
   "id": "39f63cc5-db01-4498-a981-4c603bea9f82",
   "metadata": {},
   "outputs": [],
   "source": [
    "ASTEROIDS = pd.read_csv(\"asteroids.csv.orig\")\n",
    "ASTEROIDSX = pd.read_csv(\"asteroids2.csv.orig\")\n",
    "MOONS = pd.read_csv(\"moons.csv.orig\")\n",
    "COMETS = pd.read_csv(\"comets.csv.orig\")"
   ]
  },
  {
   "cell_type": "code",
   "execution_count": 83,
   "id": "c0c9b5b9-fcd1-4bd8-bb25-49dedab3be71",
   "metadata": {},
   "outputs": [],
   "source": [
    "ASTEROIDS0 = ASTEROIDS[ ASTEROIDS.a * (1 - ASTEROIDS.e) <= 1.3]\n",
    "ASTEROIDSX0 = ASTEROIDSX[ ASTEROIDSX.a * (1 - ASTEROIDSX.e) <= 1.3]\n",
    "COMETS0 = COMETS[ COMETS.q <= 1.3]"
   ]
  },
  {
   "cell_type": "code",
   "execution_count": 84,
   "id": "6a41d064-b5a7-4d7d-bd90-c5428995065a",
   "metadata": {},
   "outputs": [],
   "source": [
    "ASTEROIDS['numN'] = ASTEROIDS.num.dropna().astype(int).astype(str) + ' ' + ASTEROIDS.name\n",
    "ASTEROIDSX['numN'] = ASTEROIDSX.num.dropna().astype(int).astype(str) + ' ' + ASTEROIDSX.name"
   ]
  },
  {
   "cell_type": "code",
   "execution_count": 85,
   "id": "637088ab-f97a-4022-a004-80c474fa28d6",
   "metadata": {},
   "outputs": [],
   "source": [
    "MOONS0 = MOONS[\n",
    "  -MOONS.orbiting.isin(ASTEROIDS[ASTEROIDS.a * (1 - ASTEROIDS.e) > 1.3].name.dropna())\n",
    "]\n",
    "MOONS1 = MOONS0[\n",
    "  -MOONS0.orbiting.isin(ASTEROIDS[ASTEROIDS.a * (1 - ASTEROIDS.e) > 1.3].numN.dropna())\n",
    "]"
   ]
  },
  {
   "cell_type": "code",
   "execution_count": 86,
   "id": "330cae1e-92b1-4128-a506-a4e4560e9d0f",
   "metadata": {},
   "outputs": [],
   "source": [
    "MOONS2 = MOONS1[\n",
    "  -MOONS1.orbiting.isin(ASTEROIDSX[ASTEROIDSX.a * (1 - ASTEROIDSX.e) > 1.3].name.dropna())\n",
    "]\n",
    "MOONS3 = MOONS2[\n",
    "  -MOONS2.orbiting.isin(ASTEROIDSX[ASTEROIDSX.a * (1 - ASTEROIDSX.e) > 1.3].numN.dropna())\n",
    "]"
   ]
  },
  {
   "cell_type": "code",
   "execution_count": 94,
   "id": "0679ca50-975e-47bf-9fc1-ecf208a6d806",
   "metadata": {},
   "outputs": [],
   "source": [
    "ASTEROIDS0.to_csv('asteroids.csv', index=False)\n",
    "ASTEROIDSX0.to_csv('asteroids2.csv', index=False)"
   ]
  },
  {
   "cell_type": "code",
   "execution_count": 88,
   "id": "7ae55657-9d65-4d54-886b-3ee098798761",
   "metadata": {},
   "outputs": [],
   "source": [
    "MOONS3.to_csv('moons.csv', index=False)"
   ]
  },
  {
   "cell_type": "code",
   "execution_count": 89,
   "id": "d79dfde9-7529-4104-a227-c5d1b20e7cbc",
   "metadata": {},
   "outputs": [],
   "source": [
    "COMETS0.to_csv('comets.csv', index=False)"
   ]
  },
  {
   "cell_type": "markdown",
   "id": "1d06bdb2-b783-4671-bd3e-87de92f4c2a4",
   "metadata": {},
   "source": [
    "## Data generation"
   ]
  },
  {
   "cell_type": "code",
   "execution_count": 95,
   "id": "ffde2945-ee72-4a87-9139-91cb54a891d9",
   "metadata": {},
   "outputs": [],
   "source": [
    "PHA = pd.read_csv('jpl_sbdb_PHA_Apollo.csv').sort_values(by=['moid']).reset_index(drop=True)"
   ]
  },
  {
   "cell_type": "code",
   "execution_count": 96,
   "id": "82824e22-95bd-49e3-a2fc-2577dbfa9940",
   "metadata": {},
   "outputs": [],
   "source": [
    "PHA['name'] = [ re.sub(r'^\\d+\\s+', '', str(x))for x in PHA.full_name ]"
   ]
  },
  {
   "cell_type": "code",
   "execution_count": 97,
   "id": "54f43312-60d2-424c-854f-c4b03f2a5f89",
   "metadata": {},
   "outputs": [],
   "source": [
    "PHA0 = (PHA\n",
    "        .drop(['full_name', 'pha','moid','diameter'], axis=1)\n",
    "        .rename(columns={'pdes':'num', 'ma':'m', 'i':'inc', 'om':'omega', 'epoch_mjd':'epoch'}))\n",
    "PHA0['info'] = np.nan\n",
    "PHA0['wiki'] = np.nan\n",
    "PHA0['wikipic'] = ''\n",
    "PHA1 = PHA0[ASTEROIDSX0.columns.tolist()]\n",
    "PHA2 = PHA1[-PHA1.num.isin(ASTEROIDS0.num)]\n",
    "PHA3 = PHA2[-PHA2.num.isin(ASTEROIDSX0.num)]"
   ]
  },
  {
   "cell_type": "code",
   "execution_count": 98,
   "id": "66441d3d-485c-44ea-9fdf-1f12cad5c3b8",
   "metadata": {},
   "outputs": [],
   "source": [
    "PHA3.to_csv('asteroids2.csv', mode='a', index=False, header=False)"
   ]
  },
  {
   "cell_type": "code",
   "execution_count": null,
   "id": "caefc58c-7433-4382-a3d2-1adbfda497c7",
   "metadata": {},
   "outputs": [],
   "source": []
  }
 ],
 "metadata": {
  "kernelspec": {
   "display_name": "Python 3 (ipykernel)",
   "language": "python",
   "name": "python3"
  },
  "language_info": {
   "codemirror_mode": {
    "name": "ipython",
    "version": 3
   },
   "file_extension": ".py",
   "mimetype": "text/x-python",
   "name": "python",
   "nbconvert_exporter": "python",
   "pygments_lexer": "ipython3",
   "version": "3.12.6"
  }
 },
 "nbformat": 4,
 "nbformat_minor": 5
}
